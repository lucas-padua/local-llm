{
 "cells": [
  {
   "cell_type": "code",
   "execution_count": 1,
   "metadata": {},
   "outputs": [],
   "source": [
    "from langchain_community.llms import Ollama"
   ]
  },
  {
   "cell_type": "code",
   "execution_count": 3,
   "metadata": {},
   "outputs": [
    {
     "data": {
      "text/plain": [
       "'\\nTo print \"Hello World\" in Python, you can use the `print()` function. Here\\'s an example:\\n```\\nprint(\"Hello World\")\\n```\\nThis will output \"Hello World\" on the screen.\\n\\nAlternatively, you can use the `console.log()` function from the `sys` module to print a message to the console:\\n```\\nfrom sys import console\\nconsole.log(\"Hello World\")\\n```\\nYou can also use the `print()` function with parentheses to print multiple statements on a single line:\\n```\\nprint(\"Hello\", \"World\")\\n```\\nThis will output \"Hello World\" on the screen.\\n\\nNote that in Python 3, the `print()` function is a function, so you need to call it like any other function:\\n```\\nprint(...\"Hello World\".join())\\n```\\nIn Python 2, the `print()` statement is a statement, so you don\\'t need to call it like a function.'"
      ]
     },
     "execution_count": 3,
     "metadata": {},
     "output_type": "execute_result"
    }
   ],
   "source": [
    "llm = Ollama(model='llama2')\n",
    "llm('How to print hello world in python')"
   ]
  },
  {
   "cell_type": "code",
   "execution_count": null,
   "metadata": {},
   "outputs": [],
   "source": []
  }
 ],
 "metadata": {
  "kernelspec": {
   "display_name": "llm",
   "language": "python",
   "name": "python3"
  },
  "language_info": {
   "codemirror_mode": {
    "name": "ipython",
    "version": 3
   },
   "file_extension": ".py",
   "mimetype": "text/x-python",
   "name": "python",
   "nbconvert_exporter": "python",
   "pygments_lexer": "ipython3",
   "version": "3.10.0"
  }
 },
 "nbformat": 4,
 "nbformat_minor": 2
}
